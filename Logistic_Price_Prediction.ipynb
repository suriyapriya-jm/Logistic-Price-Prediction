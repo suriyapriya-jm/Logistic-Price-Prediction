{
  "nbformat": 4,
  "nbformat_minor": 0,
  "metadata": {
    "colab": {
      "provenance": []
    },
    "kernelspec": {
      "name": "python3",
      "display_name": "Python 3"
    },
    "language_info": {
      "name": "python"
    }
  },
  "cells": [
    {
      "cell_type": "code",
      "execution_count": 1,
      "metadata": {
        "id": "YQqP6upQIwoQ"
      },
      "outputs": [],
      "source": [
        "import math\n",
        "import numpy as np\n",
        "import pandas as pd\n",
        "from sklearn import linear_model"
      ]
    },
    {
      "cell_type": "code",
      "source": [
        "data=pd.read_excel('prices.xlsx')"
      ],
      "metadata": {
        "id": "qpQtOILTJsuD"
      },
      "execution_count": 2,
      "outputs": []
    },
    {
      "cell_type": "code",
      "source": [
        "X = data[['Distance(Km)', 'Ton','lp','up','Flexible']]\n",
        "y = data['Total Lorry Hire(RS)']"
      ],
      "metadata": {
        "id": "oXpmAQKLLbo1"
      },
      "execution_count": 3,
      "outputs": []
    },
    {
      "cell_type": "code",
      "source": [
        "Distance=int(input(\"Enter the Distance of the transpotation: \"))\n",
        "Ton=int(input(\"Enter the Weight of the Goods (in tons): \"))\n",
        "print('Is the Loading point: port area or metro city or remote area?')\n",
        "Loading_point=input('Loading point: ')"
      ],
      "metadata": {
        "colab": {
          "base_uri": "https://localhost:8080/"
        },
        "id": "2uDQ4o5ELtQW",
        "outputId": "4b5dd997-88d5-465b-89d0-38fdcc96fcaf"
      },
      "execution_count": 4,
      "outputs": [
        {
          "name": "stdout",
          "output_type": "stream",
          "text": [
            "Enter the Distance of the transpotation: 150\n",
            "Enter the Weight of the Goods (in tons): 100\n",
            "Is the Loading point: port area or metro city or remote area?\n",
            "Loading point: port area\n"
          ]
        }
      ]
    },
    {
      "cell_type": "code",
      "source": [
        "if Loading_point.lower() == 'port area' or Loading_point.lower() =='metro city':\n",
        "    lp=1\n",
        "elif Loading_point.lower()=='remote area':\n",
        "    lp=0\n",
        "else:\n",
        "     print ('The given value is incorrect.')\n",
        "print('Is the Unloading point: port area or metro city or remote area?')\n",
        "Unloading_point=input('Unloading point: ')\n",
        "if Unloading_point.lower()== 'port area' or Unloading_point.lower()== 'metro city':\n",
        "     up=1\n",
        "elif Unloading_point.lower() =='remote area':\n",
        "     up=0\n",
        "else:\n",
        "     print ('The given value is incorrect.')\n",
        "print('Is the Vehicle type: Semi low bed or High bed?')\n",
        "vehicle_type=input('Vehicle type: ')\n",
        "if vehicle_type.lower()== 'high bed':\n",
        "     vt=1\n",
        "elif vehicle_type.lower() == 'semi low bed':\n",
        "     vt=0\n",
        "else:\n",
        "     print ('The given value is incorrect.')"
      ],
      "metadata": {
        "colab": {
          "base_uri": "https://localhost:8080/"
        },
        "id": "e2uB_jHWMwHv",
        "outputId": "7abe8065-1b4b-452f-8c25-4fb20cc2e97d"
      },
      "execution_count": 5,
      "outputs": [
        {
          "name": "stdout",
          "output_type": "stream",
          "text": [
            "Is the Unloading point: port area or metro city or remote area?\n",
            "Unloading point: port area\n",
            "Is the Vehicle type: Semi low bed or High bed?\n",
            "Vehicle type: high bed\n"
          ]
        }
      ]
    },
    {
      "cell_type": "code",
      "source": [
        "class bill():\n",
        "      def Billing(self):\n",
        "            regr = linear_model.LinearRegression()\n",
        "            regr.fit(X, y)\n",
        "            rent = regr.predict([[Distance,Ton,lp,up,vt]])\n",
        "            print(\"Rent: \",np.round(np.trunc(rent),3))\n",
        "            x=np.round(np.trunc(rent),3)\n",
        "            Gst=x*5/100\n",
        "            final=x+Gst\n",
        "            advance=final*80/100\n",
        "            balance=final-np.round(np.trunc(advance),3)\n",
        "            print(\"Final rent including GST: \",final)\n",
        "            print(\"Advance: \",np.round(np.trunc(advance),3))\n",
        "            print(\"Balance: \",balance)"
      ],
      "metadata": {
        "id": "bGTsxHvCNwdV"
      },
      "execution_count": 6,
      "outputs": []
    },
    {
      "cell_type": "code",
      "source": [
        "class safety(bill):\n",
        "      def safety_measures(self):\n",
        "        if Distance>500:\n",
        "            print(\"You are going on a long drive. Please take necessary breaks in between!\")\n",
        "        else:\n",
        "            print(\"Have a safe journey!\")\n",
        "\n",
        "        if Ton>20:\n",
        "            print(\"You are driving with heavy goods. Drive carefully!\")\n",
        "        else:\n",
        "            print(\"Have a safe journey!\")\n",
        "\n",
        "extras=bill()\n",
        "extras.Billing()\n",
        "safety=safety()\n",
        "safety.safety_measures()"
      ],
      "metadata": {
        "colab": {
          "base_uri": "https://localhost:8080/"
        },
        "id": "PKMb3cAeOObG",
        "outputId": "c38eaed2-e7b9-4893-b511-320427284758"
      },
      "execution_count": 7,
      "outputs": [
        {
          "output_type": "stream",
          "name": "stdout",
          "text": [
            "Rent:  [95220.]\n",
            "Final rent including GST:  [99981.]\n",
            "Advance:  [79984.]\n",
            "Balance:  [19997.]\n",
            "Have a safe journey!\n",
            "You are driving with heavy goods. Drive carefully!\n"
          ]
        },
        {
          "output_type": "stream",
          "name": "stderr",
          "text": [
            "/usr/local/lib/python3.10/dist-packages/sklearn/base.py:439: UserWarning: X does not have valid feature names, but LinearRegression was fitted with feature names\n",
            "  warnings.warn(\n"
          ]
        }
      ]
    }
  ]
}